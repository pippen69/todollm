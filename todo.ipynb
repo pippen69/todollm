
import datetime
import re
import json
import os
from dateutil import parser as dateparser
from transformers import pipeline, AutoTokenizer, AutoModelForSeq2SeqLM
from ics import Calendar, Event

#Load FLAN-T5 model
model_name = "google/flan-t5-small"
model = AutoModelForSeq2SeqLM.from_pretrained(model_name)
tokenizer = AutoTokenizer.from_pretrained(model_name)
generator = pipeline("text2text-generation", model=model, tokenizer=tokenizer)

#Task memory
tasks = []
DATA_FILE = "tasks.json"

#Color codes for categories
COLOR_CODES = {
    "school": "\033[94m",  # Blue
    "work": "\033[92m",    # Green
    "life": "\033[93m",    # Yellow
    "end": "\033[0m"
}

def normalize(text):
    return re.sub(r"\W+", "", text.lower())

def save_tasks():
    with open(DATA_FILE, "w") as f:
        json.dump([
            {
                "name": t["name"],
                "due": t["due"].strftime("%Y-%m-%d %H:%M"),
                "priority": t["priority"],
                "repeat": t["repeat"],
                "done": t["done"],
                "category": t.get("category", "life")
            } for t in tasks
        ], f)

def load_tasks():
    if os.path.exists(DATA_FILE):
        with open(DATA_FILE, "r") as f:
            loaded = json.load(f)
            for t in loaded:
                t["due"] = datetime.datetime.strptime(t["due"], "%Y-%m-%d %H:%M")
                t["category"] = t.get("category", "life")
                tasks.append(t)

load_tasks()

def parse_task(user_input):
    # Split by comma to extract: task, priority, category
    parts = [p.strip() for p in user_input.split(",")]
    task = parts[0]
    priority = "normal"
    category = "life"
    repeat = "none"
    due = datetime.datetime.now() + datetime.timedelta(hours=1)  # fallback

    if len(parts) > 1:
        if parts[1].lower() in ["high", "normal", "low"]:
            priority = parts[1].lower()

    if len(parts) > 2:
        if parts[2].lower() in ["school", "work", "life"]:
            category = parts[2].lower()

    # Detect weekly repetition like "every Friday"
    match = re.search(r"every (\w+)", task.lower())
    weekdays = {
        "monday": 0, "tuesday": 1, "wednesday": 2,
        "thursday": 3, "friday": 4, "saturday": 5, "sunday": 6
    }

    if match:
        repeat = "weekly"
        weekday = match.group(1).lower()
        if weekday in weekdays:
            today = datetime.datetime.now()
            days_ahead = (weekdays[weekday] - today.weekday()) % 7
            next_occurrence = today + datetime.timedelta(days=days_ahead)

            # Optional time match
            time_match = re.search(r"at (\d{1,2})(?::(\d{2}))?\s*(am|pm)?", task.lower())
            hour, minute = 9, 0
            if time_match:
                hour = int(time_match.group(1))
                minute = int(time_match.group(2)) if time_match.group(2) else 0
                ampm = time_match.group(3)
                if ampm == "pm" and hour != 12:
                    hour += 12
                elif ampm == "am" and hour == 12:
                    hour = 0
            due = next_occurrence.replace(hour=hour, minute=minute)
    else:
        try:
            due = dateparser.parse(task, fuzzy=True)
        except:
            pass

    return task, due, priority, repeat, category

def add_task(name, due, priority, repeat, category):
    tasks.append({
        "name": name,
        "due": due,
        "priority": priority,
        "repeat": repeat,
        "done": False,
        "category": category
    })
    save_tasks()
    print(f"Task '{name}' added for {due.strftime('%Y-%m-%d %H:%M')} in category [{category}]")

def complete_task(task):
    if task["repeat"] == "none":
        tasks.remove(task)
        print(f"🗑️ Deleted '{task['name']}' (non-repeating task).")
    else:
        task["done"] = True
        print(f"Marked '{task['name']}' as done.")
    save_tasks()

def show_all_tasks():
    print("\U0001F4CB All Tasks:")
    if not tasks:
        print("\U0001F4D2 No tasks added yet.")
        return
    for i, t in enumerate(tasks):
        status = "DONE" if t["done"] else "⏳"
        color = COLOR_CODES.get(t.get("category", "life"), "")
        reset = COLOR_CODES["end"]
        print(f"{i+1}. {color}{t['name']}{reset} | Due: {t['due'].strftime('%Y-%m-%d %H:%M')} | Priority: {t['priority']} | Repeat: {t['repeat']} | Category: {t.get('category', 'life')} | {status}")

def show_day(day_index):
    target_day_name = ['Monday','Tuesday','Wednesday','Thursday','Friday','Saturday','Sunday'][day_index]
    print(f"Tasks for {target_day_name}:")

    today = datetime.datetime.now().replace(hour=0, minute=0, second=0, microsecond=0)
    found = False

    for t in tasks:
        due = t["due"]
        task_day_index = due.weekday()

        if t["repeat"] == "weekly" and task_day_index == day_index:
            next_day = today + datetime.timedelta((day_index - today.weekday()) % 7)
            adjusted_due = next_day.replace(hour=due.hour, minute=due.minute)
            status = "✅" if t["done"] else "⏳"
            print(f"- {t['name']} | Due: {adjusted_due.strftime('%Y-%m-%d %H:%M')} | Priority: {t['priority']} | {status}")
            found = True
        elif t["repeat"] != "weekly" and due.weekday() == day_index and due.date() >= today.date():
            status = "✅" if t["done"] else "⏳"
            print(f"- {t['name']} | Due: {due.strftime('%Y-%m-%d %H:%M')} | Priority: {t['priority']} | {status}")
            found = True

    if not found:
        print("🎉 No tasks for that day!")

def show_week():
    print("Week Overview:")
    today = datetime.datetime.now()
    for i in range(7):
        show_day((today.weekday() + i) % 7)

def organize_week():
    print("Organizing your week...\n")

    weekdays = ["Monday", "Tuesday", "Wednesday", "Thursday", "Friday", "Saturday", "Sunday"]
    today = datetime.datetime.now().replace(hour=0, minute=0, second=0, microsecond=0)
    end_of_week = today + datetime.timedelta(days=7)

    week_tasks = {i: [] for i in range(7)}

    for t in tasks:
        due = t["due"]
        day_index = due.weekday()

        if t["repeat"] == "weekly":
            week_tasks[day_index].append(t)
        elif today.date() <= due.date() <= end_of_week.date():
            week_tasks[day_index].append(t)

    priority_order = {"high": 0, "normal": 1, "low": 2}

    for i in range(7):
        day_name = weekdays[i]
        print(f"{day_name}:")

        day_tasks = week_tasks[i]
        if not day_tasks:
            print(" No tasks.")
            continue

        sorted_tasks = sorted(day_tasks, key=lambda t: (
            priority_order.get(t["priority"], 3),
            t["due"].time()
        ))

        for t in sorted_tasks:
            status = "✅" if t["done"] else "⏳"
            print(f"  - {t['name']} | Due: {t['due'].strftime('%Y-%m-%d %H:%M')} | Priority: {t['priority']} | {status}")
        print()

def weekly_summary():
    print("📈 Weekly Summary (feature placeholder)")

def export_calendar(filename="agenda.ics"):
    calendar = Calendar()
    now = datetime.datetime.now()

    for t in tasks:
        if t["done"]:
            continue

        event = Event()
        event.name = f"[{t.get('category', 'life').capitalize()}] {t['name']}"
        event.begin = t["due"]
        event.duration = datetime.timedelta(hours=1)
        event.created = now
        event.categories = [t.get("category", "life").capitalize()]

        if t["repeat"] == "weekly":
            event.rrule = {"freq": "weekly"}

        calendar.events.add(event)

    with open(filename, "w") as f:
        f.writelines(calendar)

    print(f"Calendar exported with categories to '{filename}'")



#Main loop
print("\n Personal Productivity Assistant")
print("Sample Task Entry: 'Remind me to hand in my Capstone Video on Monday at 11:59pm, high, school'")
print("Commands: show week | show monday | show all | organize week | summary | export calendar | done | exit\n")

while True:
    user_input = input("What can I help you with? ")
    if user_input.lower() == "exit":
        print("bye loser")
        break
    elif user_input.lower() == "show week":
        show_week()
    elif user_input.lower() == "show all":
        show_all_tasks()
    elif user_input.lower().startswith("show "):
        day = user_input.lower().replace("show ", "").strip()
        weekdays = {
            "monday": 0, "tuesday": 1, "wednesday": 2,
            "thursday": 3, "friday": 4, "saturday": 5, "sunday": 6
        }
        if day in weekdays:
            show_day(weekdays[day])
        else:
            print("Invalid weekday.")
    elif user_input.lower() == "organize week":
        organize_week()
    elif user_input.lower() == "summary":
        weekly_summary()
    elif user_input.lower() == "export calendar":
        export_calendar()
    elif user_input.lower() == "done":
        show_all_tasks()
        try:
            num = int(input("Which task number to mark as done? ")) - 1
            if 0 <= num < len(tasks):
                complete_task(tasks[num])
            else:
                print("Invalid number.")
        except:
            print("Invalid input.")
    else:
        result = parse_task(user_input)
        if result:
            task, due, priority, repeat, category = result
            add_task(task, due, priority, repeat, category)
        else:
            print("Couldn't understand. Try rephrasing.")
    warn_upcoming_tasks()
